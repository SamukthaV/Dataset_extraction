{
 "cells": [
  {
   "cell_type": "code",
   "execution_count": 1,
   "metadata": {},
   "outputs": [],
   "source": [
    "import os\n",
    "import pandas as pd\n",
    "\n",
    "import re"
   ]
  },
  {
   "cell_type": "code",
   "execution_count": 2,
   "metadata": {},
   "outputs": [],
   "source": [
    "\n",
    "def extract_camera_timestamps(root_folder):\n",
    "    # print(\"root folder: \",root_folder)\n",
    "    for scene_folder in os.listdir(root_folder):\n",
    "        # print(\"scene folder: \",scene_folder)\n",
    "        scene_path = os.path.join(root_folder, scene_folder)\n",
    "        # print(\"scene path: \",scene_path)\n",
    "        if os.path.isdir(scene_path):\n",
    "            camera_df = pd.DataFrame(columns=['camera_timestamp'])\n",
    "\n",
    "            camera_folder_name = None\n",
    "            for dir_name in os.listdir(scene_path):\n",
    "                print(\"directory in scene_path\",dir_name)\n",
    "                if 'subset' in dir_name:\n",
    "                    camera_folder_name = os.path.join(scene_path, dir_name)\n",
    "                    # print(\"sss: \",camera_folder_name)\n",
    "                    # print(\"www: \", camera_folder_name)\n",
    "                    break\n",
    "            # print(\"camera folder name: \",camera_folder_name)\n",
    "            if camera_folder_name:\n",
    "                for file in os.listdir(camera_folder_name):\n",
    "                    if file.lower().endswith(('.jpg', '.jpeg')):\n",
    "                        # Extract the camera timestamp from the file name using regular expressions\n",
    "                        timestamp_match = re.search(r'\\d{2}-\\d{2}-\\d{2}\\.\\d{6}', file)\n",
    "                        \n",
    "                        # timestamp_match = re.search(r'\\d{4}-\\d{2}-\\d{2}-\\d{2}-\\d{2}-\\d{2}\\.\\d{6}', file)\n",
    "                        if timestamp_match:\n",
    "                            camera_timestamp = timestamp_match.group(0)\n",
    "                            # print(\"rrrr: \",camera_timestamp)\n",
    "                            # Remove the date part from the timestamp and replace '-' with ':'\n",
    "                            camera_timestamp = camera_timestamp.replace('-', ':')\n",
    "                            camera_df = camera_df.append({'camera_timestamp': camera_timestamp}, ignore_index=True)\n",
    "\n",
    "            # Save camera timestamps CSV in the scene folder\n",
    "            camera_timestamps_file = os.path.join(scene_path, 'camera_timestamps.csv')\n",
    "            # print(\"camera_timestamps_file: \",camera_timestamps_file)\n",
    "            camera_df.to_csv(camera_timestamps_file, index=False)"
   ]
  },
  {
   "cell_type": "code",
   "execution_count": 3,
   "metadata": {},
   "outputs": [],
   "source": [
    "def extract_radar_timestamps(root_folder):\n",
    "    # print(\"root folder: \",root_folder)\n",
    "    for scene_folder in os.listdir(root_folder):\n",
    "        # print(\"scene folder: \",scene_folder)\n",
    "        scene_path = os.path.join(root_folder, scene_folder)\n",
    "        # print(\"scene path: \",scene_path)\n",
    "        if os.path.isdir(scene_path):\n",
    "            radar_df = pd.DataFrame(columns=['radar_timestamp'])\n",
    "\n",
    "            radar_folder_name = None\n",
    "            for dir_name in os.listdir(scene_path):\n",
    "                # print(\"directory in scene_path\",dir_name)\n",
    "                if '20' in dir_name:\n",
    "                    radar_folder_name = os.path.join(scene_path, dir_name)\n",
    "                    # print(\"ggggg: \",radar_folder_name)\n",
    "                    break\n",
    "\n",
    "            if radar_folder_name:\n",
    "                for file in os.listdir(radar_folder_name):\n",
    "                    # print(\"file: \",file)\n",
    "                    if file.lower().endswith('.csv'):\n",
    "                        # Extract the radar timestamp from the file name and replace '-' with ':'\n",
    "                        radar_timestamp = os.path.splitext(file)[0].replace('-', ':')\n",
    "                        radar_df = radar_df.append({'radar_timestamp': radar_timestamp}, ignore_index=True)\n",
    "\n",
    "            # Save radar timestamps CSV in the scene folder\n",
    "            radar_timestamps_file = os.path.join(scene_path, 'radar_timestamps.csv')\n",
    "            radar_df.to_csv(radar_timestamps_file, index=False)"
   ]
  },
  {
   "cell_type": "code",
   "execution_count": 4,
   "metadata": {},
   "outputs": [],
   "source": [
    "def synchronize_timestamps(camera_root_folder, radar_root_folder):\n",
    "    for scene_folder in os.listdir(radar_root_folder):\n",
    "        scene_path = os.path.join(radar_root_folder, scene_folder)\n",
    "        # print(scene_path)\n",
    "        if os.path.isdir(scene_path):\n",
    "            # camera_timestamps_file = os.path.join(camera_root_folder, scene_folder, 'camera_timestamps.csv')\n",
    "            camera_timestamps_file = os.path.join(camera_root_folder + '/cam_front','camera_timestamps.csv')\n",
    "\n",
    "            # print('camera_root_folder',camera_root_folder)\n",
    "            radar_timestamps_file = os.path.join(scene_path, 'radar_timestamps.csv')\n",
    "            # print(\"aaaaaaa\")\n",
    "            # print(\"camera timestanp file\",camera_timestamps_file)\n",
    "            # print(radar_timestamps_file)\n",
    "            if os.path.exists(camera_timestamps_file) and os.path.exists(radar_timestamps_file):\n",
    "                # Read camera timestamps from the scene folder\n",
    "                # print(\"TRUE\")\n",
    "                camera_df = pd.read_csv(camera_timestamps_file)\n",
    "                radar_df = pd.read_csv(radar_timestamps_file)\n",
    "                # print(\"camera_df: \",camera_df)\n",
    "                # print(\"radar_df: \",radar_df)\n",
    "                camera_df['camera_timestamp'] = pd.to_datetime(camera_df['camera_timestamp'], format='%H:%M:%S.%f')\n",
    "                radar_df['radar_timestamp'] = pd.to_datetime(radar_df['radar_timestamp'], format='%H:%M:%S.%f')\n",
    "\n",
    "                synchronized_df = pd.DataFrame(columns=['camera_timestamp', 'closest_radar_timestamp'])\n",
    "                # print(synchronized_df)\n",
    "                for camera_ts in camera_df['camera_timestamp']:\n",
    "                    closest_radar_idx = (radar_df['radar_timestamp'] - camera_ts).abs().idxmin()\n",
    "                    closest_radar_ts = radar_df.loc[closest_radar_idx, 'radar_timestamp']\n",
    "                    synchronized_df = synchronized_df.append({'camera_timestamp': camera_ts, 'closest_radar_timestamp': closest_radar_ts}, ignore_index=True)\n",
    "\n",
    "                synchronized_df['camera_timestamp'] = synchronized_df['camera_timestamp'].dt.strftime('%H:%M:%S.%f')\n",
    "                synchronized_df['closest_radar_timestamp'] = pd.to_datetime(synchronized_df['closest_radar_timestamp']).dt.strftime('%H:%M:%S.%f')\n",
    "\n",
    "                # Use the scene folder name in the output CSV file name\n",
    "                synchronized_timestamps_file = os.path.join(scene_path, f'Radar_Camera_Synch_{scene_folder}.csv')\n",
    "                print(\"synchronized_timestamps_file: \",synchronized_timestamps_file)\n",
    "                synchronized_df.to_csv(synchronized_timestamps_file, index=False)"
   ]
  },
  {
   "cell_type": "code",
   "execution_count": 5,
   "metadata": {},
   "outputs": [
    {
     "name": "stdout",
     "output_type": "stream",
     "text": [
      "directory in scene_path subset\n",
      "synchronized_timestamps_file:  /home/rad-cam/dataset_demo/radar/front/Radar_Camera_Synch_123front.csv\n"
     ]
    }
   ],
   "source": [
    "camera_root_folder = '/home/rad-cam/dataset_demo/camera'\n",
    "\n",
    "# Specify the root folder for the radar\n",
    "radar_root_folder = '/home/rad-cam/dataset_demo/radar'\n",
    "\n",
    "# Call the functions to extract and synchronize timestamps\n",
    "extract_camera_timestamps(camera_root_folder)\n",
    "extract_radar_timestamps(radar_root_folder)\n",
    "synchronize_timestamps(camera_root_folder, radar_root_folder)"
   ]
  },
  {
   "cell_type": "markdown",
   "metadata": {},
   "source": []
  },
  {
   "cell_type": "code",
   "execution_count": null,
   "metadata": {},
   "outputs": [],
   "source": []
  }
 ],
 "metadata": {
  "kernelspec": {
   "display_name": "Python 3",
   "language": "python",
   "name": "python3"
  },
  "language_info": {
   "codemirror_mode": {
    "name": "ipython",
    "version": 3
   },
   "file_extension": ".py",
   "mimetype": "text/x-python",
   "name": "python",
   "nbconvert_exporter": "python",
   "pygments_lexer": "ipython3",
   "version": "3.6.9"
  }
 },
 "nbformat": 4,
 "nbformat_minor": 2
}
